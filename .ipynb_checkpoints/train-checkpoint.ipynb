{
 "cells": [
  {
   "cell_type": "code",
   "execution_count": 3,
   "metadata": {},
   "outputs": [],
   "source": [
    "import pandas as pd"
   ]
  },
  {
   "cell_type": "code",
   "execution_count": 4,
   "metadata": {},
   "outputs": [],
   "source": [
    "weather = pd.read_csv(\"local_weather.csv\")"
   ]
  },
  {
   "cell_type": "code",
   "execution_count": 5,
   "metadata": {},
   "outputs": [
    {
     "data": {
      "text/html": [
       "<div>\n",
       "<style scoped>\n",
       "    .dataframe tbody tr th:only-of-type {\n",
       "        vertical-align: middle;\n",
       "    }\n",
       "\n",
       "    .dataframe tbody tr th {\n",
       "        vertical-align: top;\n",
       "    }\n",
       "\n",
       "    .dataframe thead th {\n",
       "        text-align: right;\n",
       "    }\n",
       "</style>\n",
       "<table border=\"1\" class=\"dataframe\">\n",
       "  <thead>\n",
       "    <tr style=\"text-align: right;\">\n",
       "      <th></th>\n",
       "      <th>STATION</th>\n",
       "      <th>NAME</th>\n",
       "      <th>DATE</th>\n",
       "      <th>ACMH</th>\n",
       "      <th>ACSH</th>\n",
       "      <th>AWND</th>\n",
       "      <th>FMTM</th>\n",
       "      <th>PGTM</th>\n",
       "      <th>PRCP</th>\n",
       "      <th>PSUN</th>\n",
       "      <th>...</th>\n",
       "      <th>WT09</th>\n",
       "      <th>WT10</th>\n",
       "      <th>WT11</th>\n",
       "      <th>WT13</th>\n",
       "      <th>WT14</th>\n",
       "      <th>WT16</th>\n",
       "      <th>WT18</th>\n",
       "      <th>WT21</th>\n",
       "      <th>WT22</th>\n",
       "      <th>WV01</th>\n",
       "    </tr>\n",
       "  </thead>\n",
       "  <tbody>\n",
       "    <tr>\n",
       "      <th>0</th>\n",
       "      <td>USW00023188</td>\n",
       "      <td>SAN DIEGO INTERNATIONAL AIRPORT, CA US</td>\n",
       "      <td>1960-01-01</td>\n",
       "      <td>NaN</td>\n",
       "      <td>NaN</td>\n",
       "      <td>NaN</td>\n",
       "      <td>NaN</td>\n",
       "      <td>NaN</td>\n",
       "      <td>0.03</td>\n",
       "      <td>NaN</td>\n",
       "      <td>...</td>\n",
       "      <td>NaN</td>\n",
       "      <td>NaN</td>\n",
       "      <td>NaN</td>\n",
       "      <td>NaN</td>\n",
       "      <td>NaN</td>\n",
       "      <td>1.0</td>\n",
       "      <td>NaN</td>\n",
       "      <td>NaN</td>\n",
       "      <td>NaN</td>\n",
       "      <td>NaN</td>\n",
       "    </tr>\n",
       "    <tr>\n",
       "      <th>1</th>\n",
       "      <td>USW00023188</td>\n",
       "      <td>SAN DIEGO INTERNATIONAL AIRPORT, CA US</td>\n",
       "      <td>1960-01-02</td>\n",
       "      <td>NaN</td>\n",
       "      <td>NaN</td>\n",
       "      <td>NaN</td>\n",
       "      <td>NaN</td>\n",
       "      <td>NaN</td>\n",
       "      <td>0.00</td>\n",
       "      <td>NaN</td>\n",
       "      <td>...</td>\n",
       "      <td>NaN</td>\n",
       "      <td>NaN</td>\n",
       "      <td>NaN</td>\n",
       "      <td>NaN</td>\n",
       "      <td>NaN</td>\n",
       "      <td>NaN</td>\n",
       "      <td>NaN</td>\n",
       "      <td>NaN</td>\n",
       "      <td>NaN</td>\n",
       "      <td>NaN</td>\n",
       "    </tr>\n",
       "    <tr>\n",
       "      <th>2</th>\n",
       "      <td>USW00023188</td>\n",
       "      <td>SAN DIEGO INTERNATIONAL AIRPORT, CA US</td>\n",
       "      <td>1960-01-03</td>\n",
       "      <td>NaN</td>\n",
       "      <td>NaN</td>\n",
       "      <td>NaN</td>\n",
       "      <td>NaN</td>\n",
       "      <td>NaN</td>\n",
       "      <td>0.00</td>\n",
       "      <td>NaN</td>\n",
       "      <td>...</td>\n",
       "      <td>NaN</td>\n",
       "      <td>NaN</td>\n",
       "      <td>NaN</td>\n",
       "      <td>NaN</td>\n",
       "      <td>NaN</td>\n",
       "      <td>1.0</td>\n",
       "      <td>NaN</td>\n",
       "      <td>NaN</td>\n",
       "      <td>NaN</td>\n",
       "      <td>NaN</td>\n",
       "    </tr>\n",
       "    <tr>\n",
       "      <th>3</th>\n",
       "      <td>USW00023188</td>\n",
       "      <td>SAN DIEGO INTERNATIONAL AIRPORT, CA US</td>\n",
       "      <td>1960-01-04</td>\n",
       "      <td>NaN</td>\n",
       "      <td>NaN</td>\n",
       "      <td>NaN</td>\n",
       "      <td>NaN</td>\n",
       "      <td>NaN</td>\n",
       "      <td>0.00</td>\n",
       "      <td>NaN</td>\n",
       "      <td>...</td>\n",
       "      <td>NaN</td>\n",
       "      <td>NaN</td>\n",
       "      <td>NaN</td>\n",
       "      <td>NaN</td>\n",
       "      <td>NaN</td>\n",
       "      <td>NaN</td>\n",
       "      <td>NaN</td>\n",
       "      <td>NaN</td>\n",
       "      <td>NaN</td>\n",
       "      <td>NaN</td>\n",
       "    </tr>\n",
       "    <tr>\n",
       "      <th>4</th>\n",
       "      <td>USW00023188</td>\n",
       "      <td>SAN DIEGO INTERNATIONAL AIRPORT, CA US</td>\n",
       "      <td>1960-01-05</td>\n",
       "      <td>NaN</td>\n",
       "      <td>NaN</td>\n",
       "      <td>NaN</td>\n",
       "      <td>NaN</td>\n",
       "      <td>NaN</td>\n",
       "      <td>0.00</td>\n",
       "      <td>NaN</td>\n",
       "      <td>...</td>\n",
       "      <td>NaN</td>\n",
       "      <td>NaN</td>\n",
       "      <td>NaN</td>\n",
       "      <td>NaN</td>\n",
       "      <td>NaN</td>\n",
       "      <td>NaN</td>\n",
       "      <td>NaN</td>\n",
       "      <td>NaN</td>\n",
       "      <td>NaN</td>\n",
       "      <td>NaN</td>\n",
       "    </tr>\n",
       "    <tr>\n",
       "      <th>...</th>\n",
       "      <td>...</td>\n",
       "      <td>...</td>\n",
       "      <td>...</td>\n",
       "      <td>...</td>\n",
       "      <td>...</td>\n",
       "      <td>...</td>\n",
       "      <td>...</td>\n",
       "      <td>...</td>\n",
       "      <td>...</td>\n",
       "      <td>...</td>\n",
       "      <td>...</td>\n",
       "      <td>...</td>\n",
       "      <td>...</td>\n",
       "      <td>...</td>\n",
       "      <td>...</td>\n",
       "      <td>...</td>\n",
       "      <td>...</td>\n",
       "      <td>...</td>\n",
       "      <td>...</td>\n",
       "      <td>...</td>\n",
       "      <td>...</td>\n",
       "    </tr>\n",
       "    <tr>\n",
       "      <th>23489</th>\n",
       "      <td>USW00023188</td>\n",
       "      <td>SAN DIEGO INTERNATIONAL AIRPORT, CA US</td>\n",
       "      <td>2024-04-23</td>\n",
       "      <td>NaN</td>\n",
       "      <td>NaN</td>\n",
       "      <td>7.83</td>\n",
       "      <td>NaN</td>\n",
       "      <td>NaN</td>\n",
       "      <td>0.00</td>\n",
       "      <td>NaN</td>\n",
       "      <td>...</td>\n",
       "      <td>NaN</td>\n",
       "      <td>NaN</td>\n",
       "      <td>NaN</td>\n",
       "      <td>NaN</td>\n",
       "      <td>NaN</td>\n",
       "      <td>NaN</td>\n",
       "      <td>NaN</td>\n",
       "      <td>NaN</td>\n",
       "      <td>NaN</td>\n",
       "      <td>NaN</td>\n",
       "    </tr>\n",
       "    <tr>\n",
       "      <th>23490</th>\n",
       "      <td>USW00023188</td>\n",
       "      <td>SAN DIEGO INTERNATIONAL AIRPORT, CA US</td>\n",
       "      <td>2024-04-24</td>\n",
       "      <td>NaN</td>\n",
       "      <td>NaN</td>\n",
       "      <td>7.16</td>\n",
       "      <td>NaN</td>\n",
       "      <td>NaN</td>\n",
       "      <td>0.00</td>\n",
       "      <td>NaN</td>\n",
       "      <td>...</td>\n",
       "      <td>NaN</td>\n",
       "      <td>NaN</td>\n",
       "      <td>NaN</td>\n",
       "      <td>NaN</td>\n",
       "      <td>NaN</td>\n",
       "      <td>NaN</td>\n",
       "      <td>NaN</td>\n",
       "      <td>NaN</td>\n",
       "      <td>NaN</td>\n",
       "      <td>NaN</td>\n",
       "    </tr>\n",
       "    <tr>\n",
       "      <th>23491</th>\n",
       "      <td>USW00023188</td>\n",
       "      <td>SAN DIEGO INTERNATIONAL AIRPORT, CA US</td>\n",
       "      <td>2024-04-25</td>\n",
       "      <td>NaN</td>\n",
       "      <td>NaN</td>\n",
       "      <td>7.61</td>\n",
       "      <td>NaN</td>\n",
       "      <td>NaN</td>\n",
       "      <td>0.00</td>\n",
       "      <td>NaN</td>\n",
       "      <td>...</td>\n",
       "      <td>NaN</td>\n",
       "      <td>NaN</td>\n",
       "      <td>NaN</td>\n",
       "      <td>NaN</td>\n",
       "      <td>NaN</td>\n",
       "      <td>NaN</td>\n",
       "      <td>NaN</td>\n",
       "      <td>NaN</td>\n",
       "      <td>NaN</td>\n",
       "      <td>NaN</td>\n",
       "    </tr>\n",
       "    <tr>\n",
       "      <th>23492</th>\n",
       "      <td>USW00023188</td>\n",
       "      <td>SAN DIEGO INTERNATIONAL AIRPORT, CA US</td>\n",
       "      <td>2024-04-26</td>\n",
       "      <td>NaN</td>\n",
       "      <td>NaN</td>\n",
       "      <td>NaN</td>\n",
       "      <td>NaN</td>\n",
       "      <td>NaN</td>\n",
       "      <td>0.00</td>\n",
       "      <td>NaN</td>\n",
       "      <td>...</td>\n",
       "      <td>NaN</td>\n",
       "      <td>NaN</td>\n",
       "      <td>NaN</td>\n",
       "      <td>NaN</td>\n",
       "      <td>NaN</td>\n",
       "      <td>NaN</td>\n",
       "      <td>NaN</td>\n",
       "      <td>NaN</td>\n",
       "      <td>NaN</td>\n",
       "      <td>NaN</td>\n",
       "    </tr>\n",
       "    <tr>\n",
       "      <th>23493</th>\n",
       "      <td>USW00023188</td>\n",
       "      <td>SAN DIEGO INTERNATIONAL AIRPORT, CA US</td>\n",
       "      <td>2024-04-27</td>\n",
       "      <td>NaN</td>\n",
       "      <td>NaN</td>\n",
       "      <td>NaN</td>\n",
       "      <td>NaN</td>\n",
       "      <td>NaN</td>\n",
       "      <td>NaN</td>\n",
       "      <td>NaN</td>\n",
       "      <td>...</td>\n",
       "      <td>NaN</td>\n",
       "      <td>NaN</td>\n",
       "      <td>NaN</td>\n",
       "      <td>NaN</td>\n",
       "      <td>NaN</td>\n",
       "      <td>NaN</td>\n",
       "      <td>NaN</td>\n",
       "      <td>NaN</td>\n",
       "      <td>NaN</td>\n",
       "      <td>NaN</td>\n",
       "    </tr>\n",
       "  </tbody>\n",
       "</table>\n",
       "<p>23494 rows × 44 columns</p>\n",
       "</div>"
      ],
      "text/plain": [
       "           STATION                                    NAME        DATE  ACMH  \\\n",
       "0      USW00023188  SAN DIEGO INTERNATIONAL AIRPORT, CA US  1960-01-01   NaN   \n",
       "1      USW00023188  SAN DIEGO INTERNATIONAL AIRPORT, CA US  1960-01-02   NaN   \n",
       "2      USW00023188  SAN DIEGO INTERNATIONAL AIRPORT, CA US  1960-01-03   NaN   \n",
       "3      USW00023188  SAN DIEGO INTERNATIONAL AIRPORT, CA US  1960-01-04   NaN   \n",
       "4      USW00023188  SAN DIEGO INTERNATIONAL AIRPORT, CA US  1960-01-05   NaN   \n",
       "...            ...                                     ...         ...   ...   \n",
       "23489  USW00023188  SAN DIEGO INTERNATIONAL AIRPORT, CA US  2024-04-23   NaN   \n",
       "23490  USW00023188  SAN DIEGO INTERNATIONAL AIRPORT, CA US  2024-04-24   NaN   \n",
       "23491  USW00023188  SAN DIEGO INTERNATIONAL AIRPORT, CA US  2024-04-25   NaN   \n",
       "23492  USW00023188  SAN DIEGO INTERNATIONAL AIRPORT, CA US  2024-04-26   NaN   \n",
       "23493  USW00023188  SAN DIEGO INTERNATIONAL AIRPORT, CA US  2024-04-27   NaN   \n",
       "\n",
       "       ACSH  AWND  FMTM  PGTM  PRCP  PSUN  ...  WT09  WT10  WT11  WT13  WT14  \\\n",
       "0       NaN   NaN   NaN   NaN  0.03   NaN  ...   NaN   NaN   NaN   NaN   NaN   \n",
       "1       NaN   NaN   NaN   NaN  0.00   NaN  ...   NaN   NaN   NaN   NaN   NaN   \n",
       "2       NaN   NaN   NaN   NaN  0.00   NaN  ...   NaN   NaN   NaN   NaN   NaN   \n",
       "3       NaN   NaN   NaN   NaN  0.00   NaN  ...   NaN   NaN   NaN   NaN   NaN   \n",
       "4       NaN   NaN   NaN   NaN  0.00   NaN  ...   NaN   NaN   NaN   NaN   NaN   \n",
       "...     ...   ...   ...   ...   ...   ...  ...   ...   ...   ...   ...   ...   \n",
       "23489   NaN  7.83   NaN   NaN  0.00   NaN  ...   NaN   NaN   NaN   NaN   NaN   \n",
       "23490   NaN  7.16   NaN   NaN  0.00   NaN  ...   NaN   NaN   NaN   NaN   NaN   \n",
       "23491   NaN  7.61   NaN   NaN  0.00   NaN  ...   NaN   NaN   NaN   NaN   NaN   \n",
       "23492   NaN   NaN   NaN   NaN  0.00   NaN  ...   NaN   NaN   NaN   NaN   NaN   \n",
       "23493   NaN   NaN   NaN   NaN   NaN   NaN  ...   NaN   NaN   NaN   NaN   NaN   \n",
       "\n",
       "       WT16  WT18  WT21  WT22  WV01  \n",
       "0       1.0   NaN   NaN   NaN   NaN  \n",
       "1       NaN   NaN   NaN   NaN   NaN  \n",
       "2       1.0   NaN   NaN   NaN   NaN  \n",
       "3       NaN   NaN   NaN   NaN   NaN  \n",
       "4       NaN   NaN   NaN   NaN   NaN  \n",
       "...     ...   ...   ...   ...   ...  \n",
       "23489   NaN   NaN   NaN   NaN   NaN  \n",
       "23490   NaN   NaN   NaN   NaN   NaN  \n",
       "23491   NaN   NaN   NaN   NaN   NaN  \n",
       "23492   NaN   NaN   NaN   NaN   NaN  \n",
       "23493   NaN   NaN   NaN   NaN   NaN  \n",
       "\n",
       "[23494 rows x 44 columns]"
      ]
     },
     "execution_count": 5,
     "metadata": {},
     "output_type": "execute_result"
    }
   ],
   "source": [
    "weather"
   ]
  },
  {
   "cell_type": "code",
   "execution_count": 6,
   "metadata": {},
   "outputs": [
    {
     "name": "stdout",
     "output_type": "stream",
     "text": [
      "RangeIndex(start=0, stop=23494, step=1)\n"
     ]
    }
   ],
   "source": [
    "print(weather.index)\n"
   ]
  },
  {
   "cell_type": "code",
   "execution_count": 7,
   "metadata": {},
   "outputs": [],
   "source": [
    "weather.set_index('DATE', inplace=True)\n"
   ]
  },
  {
   "cell_type": "code",
   "execution_count": 8,
   "metadata": {},
   "outputs": [
    {
     "name": "stdout",
     "output_type": "stream",
     "text": [
      "                STATION                                    NAME  ACMH  ACSH  \\\n",
      "DATE                                                                          \n",
      "1960-01-01  USW00023188  SAN DIEGO INTERNATIONAL AIRPORT, CA US   NaN   NaN   \n",
      "1960-01-02  USW00023188  SAN DIEGO INTERNATIONAL AIRPORT, CA US   NaN   NaN   \n",
      "1960-01-03  USW00023188  SAN DIEGO INTERNATIONAL AIRPORT, CA US   NaN   NaN   \n",
      "1960-01-04  USW00023188  SAN DIEGO INTERNATIONAL AIRPORT, CA US   NaN   NaN   \n",
      "1960-01-05  USW00023188  SAN DIEGO INTERNATIONAL AIRPORT, CA US   NaN   NaN   \n",
      "1960-01-06  USW00023188  SAN DIEGO INTERNATIONAL AIRPORT, CA US   NaN   NaN   \n",
      "1960-01-07  USW00023188  SAN DIEGO INTERNATIONAL AIRPORT, CA US   NaN   NaN   \n",
      "1960-01-08  USW00023188  SAN DIEGO INTERNATIONAL AIRPORT, CA US   NaN   NaN   \n",
      "1960-01-09  USW00023188  SAN DIEGO INTERNATIONAL AIRPORT, CA US   NaN   NaN   \n",
      "1960-01-10  USW00023188  SAN DIEGO INTERNATIONAL AIRPORT, CA US   NaN   NaN   \n",
      "1960-01-11  USW00023188  SAN DIEGO INTERNATIONAL AIRPORT, CA US   NaN   NaN   \n",
      "1960-01-12  USW00023188  SAN DIEGO INTERNATIONAL AIRPORT, CA US   NaN   NaN   \n",
      "1960-01-13  USW00023188  SAN DIEGO INTERNATIONAL AIRPORT, CA US   NaN   NaN   \n",
      "1960-01-14  USW00023188  SAN DIEGO INTERNATIONAL AIRPORT, CA US   NaN   NaN   \n",
      "1960-01-15  USW00023188  SAN DIEGO INTERNATIONAL AIRPORT, CA US   NaN   NaN   \n",
      "1960-01-16  USW00023188  SAN DIEGO INTERNATIONAL AIRPORT, CA US   NaN   NaN   \n",
      "1960-01-17  USW00023188  SAN DIEGO INTERNATIONAL AIRPORT, CA US   NaN   NaN   \n",
      "1960-01-18  USW00023188  SAN DIEGO INTERNATIONAL AIRPORT, CA US   NaN   NaN   \n",
      "1960-01-19  USW00023188  SAN DIEGO INTERNATIONAL AIRPORT, CA US   NaN   NaN   \n",
      "1960-01-20  USW00023188  SAN DIEGO INTERNATIONAL AIRPORT, CA US   NaN   NaN   \n",
      "1960-01-21  USW00023188  SAN DIEGO INTERNATIONAL AIRPORT, CA US   NaN   NaN   \n",
      "1960-01-22  USW00023188  SAN DIEGO INTERNATIONAL AIRPORT, CA US   NaN   NaN   \n",
      "1960-01-23  USW00023188  SAN DIEGO INTERNATIONAL AIRPORT, CA US   NaN   NaN   \n",
      "1960-01-24  USW00023188  SAN DIEGO INTERNATIONAL AIRPORT, CA US   NaN   NaN   \n",
      "1960-01-25  USW00023188  SAN DIEGO INTERNATIONAL AIRPORT, CA US   NaN   NaN   \n",
      "1960-01-26  USW00023188  SAN DIEGO INTERNATIONAL AIRPORT, CA US   NaN   NaN   \n",
      "1960-01-27  USW00023188  SAN DIEGO INTERNATIONAL AIRPORT, CA US   NaN   NaN   \n",
      "1960-01-28  USW00023188  SAN DIEGO INTERNATIONAL AIRPORT, CA US   NaN   NaN   \n",
      "1960-01-29  USW00023188  SAN DIEGO INTERNATIONAL AIRPORT, CA US   NaN   NaN   \n",
      "1960-01-30  USW00023188  SAN DIEGO INTERNATIONAL AIRPORT, CA US   NaN   NaN   \n",
      "1960-01-31  USW00023188  SAN DIEGO INTERNATIONAL AIRPORT, CA US   NaN   NaN   \n",
      "\n",
      "            AWND  FMTM  PGTM  PRCP  PSUN  SNOW  ...  WT09  WT10  WT11  WT13  \\\n",
      "DATE                                            ...                           \n",
      "1960-01-01   NaN   NaN   NaN  0.03   NaN   0.0  ...   NaN   NaN   NaN   NaN   \n",
      "1960-01-02   NaN   NaN   NaN  0.00   NaN   0.0  ...   NaN   NaN   NaN   NaN   \n",
      "1960-01-03   NaN   NaN   NaN  0.00   NaN   0.0  ...   NaN   NaN   NaN   NaN   \n",
      "1960-01-04   NaN   NaN   NaN  0.00   NaN   0.0  ...   NaN   NaN   NaN   NaN   \n",
      "1960-01-05   NaN   NaN   NaN  0.00   NaN   0.0  ...   NaN   NaN   NaN   NaN   \n",
      "1960-01-06   NaN   NaN   NaN  0.00   NaN   0.0  ...   NaN   NaN   NaN   NaN   \n",
      "1960-01-07   NaN   NaN   NaN  0.00   NaN   0.0  ...   NaN   NaN   NaN   NaN   \n",
      "1960-01-08   NaN   NaN   NaN  0.00   NaN   0.0  ...   NaN   NaN   NaN   NaN   \n",
      "1960-01-09   NaN   NaN   NaN  0.00   NaN   0.0  ...   NaN   NaN   NaN   NaN   \n",
      "1960-01-10   NaN   NaN   NaN  0.47   NaN   0.0  ...   NaN   NaN   NaN   NaN   \n",
      "1960-01-11   NaN   NaN   NaN  0.03   NaN   0.0  ...   NaN   NaN   NaN   NaN   \n",
      "1960-01-12   NaN   NaN   NaN  1.21   NaN   0.0  ...   NaN   NaN   NaN   NaN   \n",
      "1960-01-13   NaN   NaN   NaN  0.01   NaN   0.0  ...   NaN   NaN   NaN   NaN   \n",
      "1960-01-14   NaN   NaN   NaN  0.55   NaN   0.0  ...   NaN   NaN   NaN   NaN   \n",
      "1960-01-15   NaN   NaN   NaN  0.34   NaN   0.0  ...   NaN   NaN   NaN   NaN   \n",
      "1960-01-16   NaN   NaN   NaN  0.00   NaN   0.0  ...   NaN   NaN   NaN   NaN   \n",
      "1960-01-17   NaN   NaN   NaN  0.00   NaN   0.0  ...   NaN   NaN   NaN   NaN   \n",
      "1960-01-18   NaN   NaN   NaN  0.00   NaN   0.0  ...   NaN   NaN   NaN   NaN   \n",
      "1960-01-19   NaN   NaN   NaN  0.00   NaN   0.0  ...   NaN   NaN   NaN   NaN   \n",
      "1960-01-20   NaN   NaN   NaN  0.00   NaN   0.0  ...   NaN   NaN   NaN   NaN   \n",
      "1960-01-21   NaN   NaN   NaN  0.00   NaN   0.0  ...   NaN   NaN   NaN   NaN   \n",
      "1960-01-22   NaN   NaN   NaN  0.00   NaN   0.0  ...   NaN   NaN   NaN   NaN   \n",
      "1960-01-23   NaN   NaN   NaN  0.00   NaN   0.0  ...   NaN   NaN   NaN   NaN   \n",
      "1960-01-24   NaN   NaN   NaN  0.00   NaN   0.0  ...   NaN   NaN   NaN   NaN   \n",
      "1960-01-25   NaN   NaN   NaN  0.14   NaN   0.0  ...   NaN   NaN   NaN   NaN   \n",
      "1960-01-26   NaN   NaN   NaN  0.21   NaN   0.0  ...   NaN   NaN   NaN   NaN   \n",
      "1960-01-27   NaN   NaN   NaN  0.00   NaN   0.0  ...   NaN   NaN   NaN   NaN   \n",
      "1960-01-28   NaN   NaN   NaN  0.00   NaN   0.0  ...   NaN   NaN   NaN   NaN   \n",
      "1960-01-29   NaN   NaN   NaN  0.00   NaN   0.0  ...   NaN   NaN   NaN   NaN   \n",
      "1960-01-30   NaN   NaN   NaN  0.00   NaN   0.0  ...   NaN   NaN   NaN   NaN   \n",
      "1960-01-31   NaN   NaN   NaN  0.00   NaN   0.0  ...   NaN   NaN   NaN   NaN   \n",
      "\n",
      "            WT14  WT16  WT18  WT21  WT22  WV01  \n",
      "DATE                                            \n",
      "1960-01-01   NaN   1.0   NaN   NaN   NaN   NaN  \n",
      "1960-01-02   NaN   NaN   NaN   NaN   NaN   NaN  \n",
      "1960-01-03   NaN   1.0   NaN   NaN   NaN   NaN  \n",
      "1960-01-04   NaN   NaN   NaN   NaN   NaN   NaN  \n",
      "1960-01-05   NaN   NaN   NaN   NaN   NaN   NaN  \n",
      "1960-01-06   NaN   NaN   NaN   NaN   NaN   NaN  \n",
      "1960-01-07   NaN   NaN   NaN   NaN   NaN   NaN  \n",
      "1960-01-08   NaN   NaN   NaN   NaN   NaN   NaN  \n",
      "1960-01-09   NaN   NaN   NaN   NaN   NaN   NaN  \n",
      "1960-01-10   NaN   1.0   NaN   NaN   NaN   NaN  \n",
      "1960-01-11   NaN   1.0   NaN   NaN   NaN   NaN  \n",
      "1960-01-12   NaN   1.0   NaN   NaN   NaN   NaN  \n",
      "1960-01-13   NaN   1.0   NaN   NaN   NaN   NaN  \n",
      "1960-01-14   NaN   1.0   NaN   NaN   NaN   NaN  \n",
      "1960-01-15   NaN   1.0   NaN   NaN   NaN   NaN  \n",
      "1960-01-16   NaN   NaN   NaN   NaN   NaN   NaN  \n",
      "1960-01-17   NaN   NaN   NaN   NaN   NaN   NaN  \n",
      "1960-01-18   NaN   NaN   NaN   NaN   NaN   NaN  \n",
      "1960-01-19   NaN   NaN   NaN   NaN   NaN   NaN  \n",
      "1960-01-20   NaN   NaN   NaN   NaN   NaN   NaN  \n",
      "1960-01-21   NaN   NaN   NaN   NaN   NaN   NaN  \n",
      "1960-01-22   NaN   NaN   NaN   NaN   NaN   NaN  \n",
      "1960-01-23   NaN   NaN   NaN   NaN   NaN   NaN  \n",
      "1960-01-24   NaN   NaN   NaN   NaN   NaN   NaN  \n",
      "1960-01-25   NaN   1.0   NaN   NaN   NaN   NaN  \n",
      "1960-01-26   NaN   1.0   NaN   NaN   NaN   NaN  \n",
      "1960-01-27   NaN   NaN   NaN   NaN   NaN   NaN  \n",
      "1960-01-28   NaN   NaN   NaN   NaN   NaN   NaN  \n",
      "1960-01-29   NaN   NaN   NaN   NaN   NaN   NaN  \n",
      "1960-01-30   NaN   NaN   NaN   NaN   NaN   NaN  \n",
      "1960-01-31   NaN   NaN   NaN   NaN   NaN   NaN  \n",
      "\n",
      "[31 rows x 43 columns]\n"
     ]
    }
   ],
   "source": [
    "print(weather.loc[\"1960-01-01\":\"1960-01-31\"])\n"
   ]
  },
  {
   "cell_type": "code",
   "execution_count": 9,
   "metadata": {},
   "outputs": [
    {
     "data": {
      "text/plain": [
       "STATION    0.000000\n",
       "NAME       0.000000\n",
       "ACMH       0.509109\n",
       "ACSH       0.509024\n",
       "AWND       0.373287\n",
       "FMTM       0.567081\n",
       "PGTM       0.381161\n",
       "PRCP       0.000043\n",
       "PSUN       0.704648\n",
       "SNOW       0.386992\n",
       "SNWD       0.389717\n",
       "TAVG       0.714310\n",
       "TMAX       0.000043\n",
       "TMIN       0.000043\n",
       "TSUN       0.456968\n",
       "WDF1       0.998723\n",
       "WDF2       0.567592\n",
       "WDF5       0.571891\n",
       "WDFG       0.586660\n",
       "WDFM       0.535498\n",
       "WESD       0.751256\n",
       "WSF1       0.998723\n",
       "WSF2       0.567592\n",
       "WSF5       0.571891\n",
       "WSFG       0.586618\n",
       "WSFM       0.535456\n",
       "WT01       0.695156\n",
       "WT02       0.959351\n",
       "WT03       0.991189\n",
       "WT04       0.999787\n",
       "WT05       0.994552\n",
       "WT07       0.986763\n",
       "WT08       0.615051\n",
       "WT09       0.998127\n",
       "WT10       0.999745\n",
       "WT11       0.999957\n",
       "WT13       0.904614\n",
       "WT14       0.984592\n",
       "WT16       0.845109\n",
       "WT18       0.999957\n",
       "WT21       0.999532\n",
       "WT22       0.999957\n",
       "WV01       0.997914\n",
       "dtype: float64"
      ]
     },
     "execution_count": 9,
     "metadata": {},
     "output_type": "execute_result"
    }
   ],
   "source": [
    "weather.apply(pd.isnull).sum()/weather.shape[0] #models don't work well with null values, so this will help us prep dataset"
   ]
  },
  {
   "cell_type": "code",
   "execution_count": 10,
   "metadata": {},
   "outputs": [],
   "source": [
    "core_weather = weather[[\"PRCP\", \"SNOW\", \"SNWD\", \"TMAX\", \"TMIN\"]].copy()\n",
    "core_weather.columns = [\"precip\", \"snow\", \"snow_depth\", \"temp_max\", \"temp_min\"]"
   ]
  },
  {
   "cell_type": "code",
   "execution_count": 11,
   "metadata": {},
   "outputs": [
    {
     "data": {
      "text/html": [
       "<div>\n",
       "<style scoped>\n",
       "    .dataframe tbody tr th:only-of-type {\n",
       "        vertical-align: middle;\n",
       "    }\n",
       "\n",
       "    .dataframe tbody tr th {\n",
       "        vertical-align: top;\n",
       "    }\n",
       "\n",
       "    .dataframe thead th {\n",
       "        text-align: right;\n",
       "    }\n",
       "</style>\n",
       "<table border=\"1\" class=\"dataframe\">\n",
       "  <thead>\n",
       "    <tr style=\"text-align: right;\">\n",
       "      <th></th>\n",
       "      <th>precip</th>\n",
       "      <th>snow</th>\n",
       "      <th>snow_depth</th>\n",
       "      <th>temp_max</th>\n",
       "      <th>temp_min</th>\n",
       "    </tr>\n",
       "    <tr>\n",
       "      <th>DATE</th>\n",
       "      <th></th>\n",
       "      <th></th>\n",
       "      <th></th>\n",
       "      <th></th>\n",
       "      <th></th>\n",
       "    </tr>\n",
       "  </thead>\n",
       "  <tbody>\n",
       "    <tr>\n",
       "      <th>1960-01-01</th>\n",
       "      <td>0.03</td>\n",
       "      <td>0.0</td>\n",
       "      <td>0.0</td>\n",
       "      <td>56.0</td>\n",
       "      <td>42.0</td>\n",
       "    </tr>\n",
       "    <tr>\n",
       "      <th>1960-01-02</th>\n",
       "      <td>0.00</td>\n",
       "      <td>0.0</td>\n",
       "      <td>0.0</td>\n",
       "      <td>58.0</td>\n",
       "      <td>38.0</td>\n",
       "    </tr>\n",
       "    <tr>\n",
       "      <th>1960-01-03</th>\n",
       "      <td>0.00</td>\n",
       "      <td>0.0</td>\n",
       "      <td>0.0</td>\n",
       "      <td>59.0</td>\n",
       "      <td>38.0</td>\n",
       "    </tr>\n",
       "    <tr>\n",
       "      <th>1960-01-04</th>\n",
       "      <td>0.00</td>\n",
       "      <td>0.0</td>\n",
       "      <td>0.0</td>\n",
       "      <td>63.0</td>\n",
       "      <td>45.0</td>\n",
       "    </tr>\n",
       "    <tr>\n",
       "      <th>1960-01-05</th>\n",
       "      <td>0.00</td>\n",
       "      <td>0.0</td>\n",
       "      <td>0.0</td>\n",
       "      <td>63.0</td>\n",
       "      <td>40.0</td>\n",
       "    </tr>\n",
       "    <tr>\n",
       "      <th>...</th>\n",
       "      <td>...</td>\n",
       "      <td>...</td>\n",
       "      <td>...</td>\n",
       "      <td>...</td>\n",
       "      <td>...</td>\n",
       "    </tr>\n",
       "    <tr>\n",
       "      <th>2024-04-23</th>\n",
       "      <td>0.00</td>\n",
       "      <td>NaN</td>\n",
       "      <td>NaN</td>\n",
       "      <td>66.0</td>\n",
       "      <td>59.0</td>\n",
       "    </tr>\n",
       "    <tr>\n",
       "      <th>2024-04-24</th>\n",
       "      <td>0.00</td>\n",
       "      <td>NaN</td>\n",
       "      <td>NaN</td>\n",
       "      <td>67.0</td>\n",
       "      <td>59.0</td>\n",
       "    </tr>\n",
       "    <tr>\n",
       "      <th>2024-04-25</th>\n",
       "      <td>0.00</td>\n",
       "      <td>NaN</td>\n",
       "      <td>NaN</td>\n",
       "      <td>67.0</td>\n",
       "      <td>58.0</td>\n",
       "    </tr>\n",
       "    <tr>\n",
       "      <th>2024-04-26</th>\n",
       "      <td>0.00</td>\n",
       "      <td>NaN</td>\n",
       "      <td>NaN</td>\n",
       "      <td>66.0</td>\n",
       "      <td>57.0</td>\n",
       "    </tr>\n",
       "    <tr>\n",
       "      <th>2024-04-27</th>\n",
       "      <td>NaN</td>\n",
       "      <td>NaN</td>\n",
       "      <td>NaN</td>\n",
       "      <td>NaN</td>\n",
       "      <td>NaN</td>\n",
       "    </tr>\n",
       "  </tbody>\n",
       "</table>\n",
       "<p>23494 rows × 5 columns</p>\n",
       "</div>"
      ],
      "text/plain": [
       "            precip  snow  snow_depth  temp_max  temp_min\n",
       "DATE                                                    \n",
       "1960-01-01    0.03   0.0         0.0      56.0      42.0\n",
       "1960-01-02    0.00   0.0         0.0      58.0      38.0\n",
       "1960-01-03    0.00   0.0         0.0      59.0      38.0\n",
       "1960-01-04    0.00   0.0         0.0      63.0      45.0\n",
       "1960-01-05    0.00   0.0         0.0      63.0      40.0\n",
       "...            ...   ...         ...       ...       ...\n",
       "2024-04-23    0.00   NaN         NaN      66.0      59.0\n",
       "2024-04-24    0.00   NaN         NaN      67.0      59.0\n",
       "2024-04-25    0.00   NaN         NaN      67.0      58.0\n",
       "2024-04-26    0.00   NaN         NaN      66.0      57.0\n",
       "2024-04-27     NaN   NaN         NaN       NaN       NaN\n",
       "\n",
       "[23494 rows x 5 columns]"
      ]
     },
     "execution_count": 11,
     "metadata": {},
     "output_type": "execute_result"
    }
   ],
   "source": [
    "core_weather"
   ]
  },
  {
   "cell_type": "code",
   "execution_count": 12,
   "metadata": {},
   "outputs": [
    {
     "data": {
      "text/plain": [
       "precip        0.000043\n",
       "snow          0.386992\n",
       "snow_depth    0.389717\n",
       "temp_max      0.000043\n",
       "temp_min      0.000043\n",
       "dtype: float64"
      ]
     },
     "execution_count": 12,
     "metadata": {},
     "output_type": "execute_result"
    }
   ],
   "source": [
    "core_weather.apply(pd.isnull).sum()/core_weather.shape[0] #calculated percentage of missing null values"
   ]
  },
  {
   "cell_type": "code",
   "execution_count": 13,
   "metadata": {},
   "outputs": [
    {
     "data": {
      "text/plain": [
       "snow\n",
       "0.0    14402\n",
       "Name: count, dtype: int64"
      ]
     },
     "execution_count": 13,
     "metadata": {},
     "output_type": "execute_result"
    }
   ],
   "source": [
    "core_weather[\"snow\"].value_counts()"
   ]
  },
  {
   "cell_type": "code",
   "execution_count": 14,
   "metadata": {},
   "outputs": [],
   "source": [
    "del core_weather[\"snow\"]"
   ]
  },
  {
   "cell_type": "code",
   "execution_count": 15,
   "metadata": {},
   "outputs": [
    {
     "data": {
      "text/plain": [
       "snow_depth\n",
       "0.0    14338\n",
       "Name: count, dtype: int64"
      ]
     },
     "execution_count": 15,
     "metadata": {},
     "output_type": "execute_result"
    }
   ],
   "source": [
    "core_weather[\"snow_depth\"].value_counts()"
   ]
  },
  {
   "cell_type": "code",
   "execution_count": 16,
   "metadata": {},
   "outputs": [],
   "source": [
    "del core_weather[\"snow_depth\"]"
   ]
  },
  {
   "cell_type": "code",
   "execution_count": 17,
   "metadata": {},
   "outputs": [
    {
     "data": {
      "text/html": [
       "<div>\n",
       "<style scoped>\n",
       "    .dataframe tbody tr th:only-of-type {\n",
       "        vertical-align: middle;\n",
       "    }\n",
       "\n",
       "    .dataframe tbody tr th {\n",
       "        vertical-align: top;\n",
       "    }\n",
       "\n",
       "    .dataframe thead th {\n",
       "        text-align: right;\n",
       "    }\n",
       "</style>\n",
       "<table border=\"1\" class=\"dataframe\">\n",
       "  <thead>\n",
       "    <tr style=\"text-align: right;\">\n",
       "      <th></th>\n",
       "      <th>precip</th>\n",
       "      <th>temp_max</th>\n",
       "      <th>temp_min</th>\n",
       "    </tr>\n",
       "    <tr>\n",
       "      <th>DATE</th>\n",
       "      <th></th>\n",
       "      <th></th>\n",
       "      <th></th>\n",
       "    </tr>\n",
       "  </thead>\n",
       "  <tbody>\n",
       "    <tr>\n",
       "      <th>2024-04-27</th>\n",
       "      <td>NaN</td>\n",
       "      <td>NaN</td>\n",
       "      <td>NaN</td>\n",
       "    </tr>\n",
       "  </tbody>\n",
       "</table>\n",
       "</div>"
      ],
      "text/plain": [
       "            precip  temp_max  temp_min\n",
       "DATE                                  \n",
       "2024-04-27     NaN       NaN       NaN"
      ]
     },
     "execution_count": 17,
     "metadata": {},
     "output_type": "execute_result"
    }
   ],
   "source": [
    "core_weather[pd.isnull(core_weather[\"precip\"])]\n"
   ]
  },
  {
   "cell_type": "code",
   "execution_count": 18,
   "metadata": {},
   "outputs": [
    {
     "data": {
      "text/html": [
       "<div>\n",
       "<style scoped>\n",
       "    .dataframe tbody tr th:only-of-type {\n",
       "        vertical-align: middle;\n",
       "    }\n",
       "\n",
       "    .dataframe tbody tr th {\n",
       "        vertical-align: top;\n",
       "    }\n",
       "\n",
       "    .dataframe thead th {\n",
       "        text-align: right;\n",
       "    }\n",
       "</style>\n",
       "<table border=\"1\" class=\"dataframe\">\n",
       "  <thead>\n",
       "    <tr style=\"text-align: right;\">\n",
       "      <th></th>\n",
       "      <th>precip</th>\n",
       "      <th>temp_max</th>\n",
       "      <th>temp_min</th>\n",
       "    </tr>\n",
       "    <tr>\n",
       "      <th>DATE</th>\n",
       "      <th></th>\n",
       "      <th></th>\n",
       "      <th></th>\n",
       "    </tr>\n",
       "  </thead>\n",
       "  <tbody>\n",
       "    <tr>\n",
       "      <th>2024-02-27</th>\n",
       "      <td>0.00</td>\n",
       "      <td>67.0</td>\n",
       "      <td>56.0</td>\n",
       "    </tr>\n",
       "    <tr>\n",
       "      <th>2024-02-28</th>\n",
       "      <td>0.00</td>\n",
       "      <td>65.0</td>\n",
       "      <td>54.0</td>\n",
       "    </tr>\n",
       "    <tr>\n",
       "      <th>2024-02-29</th>\n",
       "      <td>0.00</td>\n",
       "      <td>66.0</td>\n",
       "      <td>59.0</td>\n",
       "    </tr>\n",
       "    <tr>\n",
       "      <th>2024-03-01</th>\n",
       "      <td>0.00</td>\n",
       "      <td>66.0</td>\n",
       "      <td>53.0</td>\n",
       "    </tr>\n",
       "    <tr>\n",
       "      <th>2024-03-02</th>\n",
       "      <td>0.17</td>\n",
       "      <td>64.0</td>\n",
       "      <td>57.0</td>\n",
       "    </tr>\n",
       "    <tr>\n",
       "      <th>...</th>\n",
       "      <td>...</td>\n",
       "      <td>...</td>\n",
       "      <td>...</td>\n",
       "    </tr>\n",
       "    <tr>\n",
       "      <th>2024-04-23</th>\n",
       "      <td>0.00</td>\n",
       "      <td>66.0</td>\n",
       "      <td>59.0</td>\n",
       "    </tr>\n",
       "    <tr>\n",
       "      <th>2024-04-24</th>\n",
       "      <td>0.00</td>\n",
       "      <td>67.0</td>\n",
       "      <td>59.0</td>\n",
       "    </tr>\n",
       "    <tr>\n",
       "      <th>2024-04-25</th>\n",
       "      <td>0.00</td>\n",
       "      <td>67.0</td>\n",
       "      <td>58.0</td>\n",
       "    </tr>\n",
       "    <tr>\n",
       "      <th>2024-04-26</th>\n",
       "      <td>0.00</td>\n",
       "      <td>66.0</td>\n",
       "      <td>57.0</td>\n",
       "    </tr>\n",
       "    <tr>\n",
       "      <th>2024-04-27</th>\n",
       "      <td>NaN</td>\n",
       "      <td>NaN</td>\n",
       "      <td>NaN</td>\n",
       "    </tr>\n",
       "  </tbody>\n",
       "</table>\n",
       "<p>61 rows × 3 columns</p>\n",
       "</div>"
      ],
      "text/plain": [
       "            precip  temp_max  temp_min\n",
       "DATE                                  \n",
       "2024-02-27    0.00      67.0      56.0\n",
       "2024-02-28    0.00      65.0      54.0\n",
       "2024-02-29    0.00      66.0      59.0\n",
       "2024-03-01    0.00      66.0      53.0\n",
       "2024-03-02    0.17      64.0      57.0\n",
       "...            ...       ...       ...\n",
       "2024-04-23    0.00      66.0      59.0\n",
       "2024-04-24    0.00      67.0      59.0\n",
       "2024-04-25    0.00      67.0      58.0\n",
       "2024-04-26    0.00      66.0      57.0\n",
       "2024-04-27     NaN       NaN       NaN\n",
       "\n",
       "[61 rows x 3 columns]"
      ]
     },
     "execution_count": 18,
     "metadata": {},
     "output_type": "execute_result"
    }
   ],
   "source": [
    "core_weather.loc[\"2024-02-27\":\"2024-04-29\",:] #looks like dataset is 3 days old as of April 29 and that's why there's a null value for precip on 4/27\n"
   ]
  },
  {
   "cell_type": "code",
   "execution_count": 19,
   "metadata": {},
   "outputs": [
    {
     "data": {
      "text/plain": [
       "precip\n",
       "0.00    20849\n",
       "0.01      371\n",
       "0.02      205\n",
       "0.03      166\n",
       "0.04      140\n",
       "        ...  \n",
       "1.17        1\n",
       "1.42        1\n",
       "1.31        1\n",
       "0.89        1\n",
       "2.73        1\n",
       "Name: count, Length: 175, dtype: int64"
      ]
     },
     "execution_count": 19,
     "metadata": {},
     "output_type": "execute_result"
    }
   ],
   "source": [
    "core_weather[\"precip\"].value_counts()"
   ]
  },
  {
   "cell_type": "code",
   "execution_count": 20,
   "metadata": {},
   "outputs": [],
   "source": [
    "core_weather[\"precip\"] = core_weather[\"precip\"].fillna(0)"
   ]
  },
  {
   "cell_type": "code",
   "execution_count": 21,
   "metadata": {},
   "outputs": [
    {
     "data": {
      "text/html": [
       "<div>\n",
       "<style scoped>\n",
       "    .dataframe tbody tr th:only-of-type {\n",
       "        vertical-align: middle;\n",
       "    }\n",
       "\n",
       "    .dataframe tbody tr th {\n",
       "        vertical-align: top;\n",
       "    }\n",
       "\n",
       "    .dataframe thead th {\n",
       "        text-align: right;\n",
       "    }\n",
       "</style>\n",
       "<table border=\"1\" class=\"dataframe\">\n",
       "  <thead>\n",
       "    <tr style=\"text-align: right;\">\n",
       "      <th></th>\n",
       "      <th>precip</th>\n",
       "      <th>temp_max</th>\n",
       "      <th>temp_min</th>\n",
       "    </tr>\n",
       "    <tr>\n",
       "      <th>DATE</th>\n",
       "      <th></th>\n",
       "      <th></th>\n",
       "      <th></th>\n",
       "    </tr>\n",
       "  </thead>\n",
       "  <tbody>\n",
       "  </tbody>\n",
       "</table>\n",
       "</div>"
      ],
      "text/plain": [
       "Empty DataFrame\n",
       "Columns: [precip, temp_max, temp_min]\n",
       "Index: []"
      ]
     },
     "execution_count": 21,
     "metadata": {},
     "output_type": "execute_result"
    }
   ],
   "source": [
    "core_weather[pd.isnull(core_weather[\"precip\"])] #we filled all the missing precip data with 0\n"
   ]
  },
  {
   "cell_type": "code",
   "execution_count": 22,
   "metadata": {},
   "outputs": [
    {
     "data": {
      "text/html": [
       "<div>\n",
       "<style scoped>\n",
       "    .dataframe tbody tr th:only-of-type {\n",
       "        vertical-align: middle;\n",
       "    }\n",
       "\n",
       "    .dataframe tbody tr th {\n",
       "        vertical-align: top;\n",
       "    }\n",
       "\n",
       "    .dataframe thead th {\n",
       "        text-align: right;\n",
       "    }\n",
       "</style>\n",
       "<table border=\"1\" class=\"dataframe\">\n",
       "  <thead>\n",
       "    <tr style=\"text-align: right;\">\n",
       "      <th></th>\n",
       "      <th>precip</th>\n",
       "      <th>temp_max</th>\n",
       "      <th>temp_min</th>\n",
       "    </tr>\n",
       "    <tr>\n",
       "      <th>DATE</th>\n",
       "      <th></th>\n",
       "      <th></th>\n",
       "      <th></th>\n",
       "    </tr>\n",
       "  </thead>\n",
       "  <tbody>\n",
       "    <tr>\n",
       "      <th>2024-04-27</th>\n",
       "      <td>0.0</td>\n",
       "      <td>NaN</td>\n",
       "      <td>NaN</td>\n",
       "    </tr>\n",
       "  </tbody>\n",
       "</table>\n",
       "</div>"
      ],
      "text/plain": [
       "            precip  temp_max  temp_min\n",
       "DATE                                  \n",
       "2024-04-27     0.0       NaN       NaN"
      ]
     },
     "execution_count": 22,
     "metadata": {},
     "output_type": "execute_result"
    }
   ],
   "source": [
    "core_weather[pd.isnull(core_weather[\"temp_max\"])]"
   ]
  },
  {
   "cell_type": "code",
   "execution_count": 23,
   "metadata": {},
   "outputs": [],
   "source": [
    "core_weather = core_weather.drop('2024-04-27')\n",
    "#just going to remove that day entirely as the data wasn't updated"
   ]
  },
  {
   "cell_type": "code",
   "execution_count": 24,
   "metadata": {},
   "outputs": [
    {
     "data": {
      "text/html": [
       "<div>\n",
       "<style scoped>\n",
       "    .dataframe tbody tr th:only-of-type {\n",
       "        vertical-align: middle;\n",
       "    }\n",
       "\n",
       "    .dataframe tbody tr th {\n",
       "        vertical-align: top;\n",
       "    }\n",
       "\n",
       "    .dataframe thead th {\n",
       "        text-align: right;\n",
       "    }\n",
       "</style>\n",
       "<table border=\"1\" class=\"dataframe\">\n",
       "  <thead>\n",
       "    <tr style=\"text-align: right;\">\n",
       "      <th></th>\n",
       "      <th>precip</th>\n",
       "      <th>temp_max</th>\n",
       "      <th>temp_min</th>\n",
       "    </tr>\n",
       "    <tr>\n",
       "      <th>DATE</th>\n",
       "      <th></th>\n",
       "      <th></th>\n",
       "      <th></th>\n",
       "    </tr>\n",
       "  </thead>\n",
       "  <tbody>\n",
       "  </tbody>\n",
       "</table>\n",
       "</div>"
      ],
      "text/plain": [
       "Empty DataFrame\n",
       "Columns: [precip, temp_max, temp_min]\n",
       "Index: []"
      ]
     },
     "execution_count": 24,
     "metadata": {},
     "output_type": "execute_result"
    }
   ],
   "source": [
    "core_weather[pd.isnull(core_weather[\"temp_max\"])] #now we have no null values here  "
   ]
  },
  {
   "cell_type": "code",
   "execution_count": 25,
   "metadata": {},
   "outputs": [
    {
     "data": {
      "text/plain": [
       "precip      float64\n",
       "temp_max    float64\n",
       "temp_min    float64\n",
       "dtype: object"
      ]
     },
     "execution_count": 25,
     "metadata": {},
     "output_type": "execute_result"
    }
   ],
   "source": [
    "core_weather.dtypes"
   ]
  },
  {
   "cell_type": "code",
   "execution_count": 26,
   "metadata": {},
   "outputs": [
    {
     "data": {
      "text/plain": [
       "Index(['1960-01-01', '1960-01-02', '1960-01-03', '1960-01-04', '1960-01-05',\n",
       "       '1960-01-06', '1960-01-07', '1960-01-08', '1960-01-09', '1960-01-10',\n",
       "       ...\n",
       "       '2024-04-17', '2024-04-18', '2024-04-19', '2024-04-20', '2024-04-21',\n",
       "       '2024-04-22', '2024-04-23', '2024-04-24', '2024-04-25', '2024-04-26'],\n",
       "      dtype='object', name='DATE', length=23493)"
      ]
     },
     "execution_count": 26,
     "metadata": {},
     "output_type": "execute_result"
    }
   ],
   "source": [
    "core_weather.index"
   ]
  },
  {
   "cell_type": "code",
   "execution_count": 27,
   "metadata": {},
   "outputs": [],
   "source": [
    "core_weather.index = pd.to_datetime(core_weather.index) #convert to datetimeindex for easier data manipulation"
   ]
  },
  {
   "cell_type": "code",
   "execution_count": 28,
   "metadata": {},
   "outputs": [
    {
     "data": {
      "text/plain": [
       "DatetimeIndex(['1960-01-01', '1960-01-02', '1960-01-03', '1960-01-04',\n",
       "               '1960-01-05', '1960-01-06', '1960-01-07', '1960-01-08',\n",
       "               '1960-01-09', '1960-01-10',\n",
       "               ...\n",
       "               '2024-04-17', '2024-04-18', '2024-04-19', '2024-04-20',\n",
       "               '2024-04-21', '2024-04-22', '2024-04-23', '2024-04-24',\n",
       "               '2024-04-25', '2024-04-26'],\n",
       "              dtype='datetime64[ns]', name='DATE', length=23493, freq=None)"
      ]
     },
     "execution_count": 28,
     "metadata": {},
     "output_type": "execute_result"
    }
   ],
   "source": [
    "core_weather.index"
   ]
  },
  {
   "cell_type": "code",
   "execution_count": 29,
   "metadata": {},
   "outputs": [
    {
     "data": {
      "text/plain": [
       "Index([1960, 1960, 1960, 1960, 1960, 1960, 1960, 1960, 1960, 1960,\n",
       "       ...\n",
       "       2024, 2024, 2024, 2024, 2024, 2024, 2024, 2024, 2024, 2024],\n",
       "      dtype='int32', name='DATE', length=23493)"
      ]
     },
     "execution_count": 29,
     "metadata": {},
     "output_type": "execute_result"
    }
   ],
   "source": [
    "core_weather.index.year #can sort by year month etc."
   ]
  },
  {
   "cell_type": "code",
   "execution_count": 30,
   "metadata": {},
   "outputs": [
    {
     "data": {
      "text/plain": [
       "precip      0\n",
       "temp_max    0\n",
       "temp_min    0\n",
       "dtype: int64"
      ]
     },
     "execution_count": 30,
     "metadata": {},
     "output_type": "execute_result"
    }
   ],
   "source": [
    "core_weather.apply(lambda x: (x==9999).sum()) #table 4 in doccumentation must check for missing values"
   ]
  },
  {
   "cell_type": "code",
   "execution_count": 31,
   "metadata": {},
   "outputs": [
    {
     "data": {
      "text/plain": [
       "<Axes: xlabel='DATE'>"
      ]
     },
     "execution_count": 31,
     "metadata": {},
     "output_type": "execute_result"
    },
    {
     "data": {
      "image/png": "[encoded data removed]",
      "text/plain": [
       "<Figure size 640x480 with 1 Axes>"
      ]
     },
     "metadata": {},
     "output_type": "display_data"
    }
   ],
   "source": [
    "core_weather[[\"temp_max\",\"temp_min\"]].plot()"
   ]
  },
  {
   "cell_type": "markdown",
   "metadata": {},
   "source": [
    "Data Looks good. No holes"
   ]
  },
  {
   "cell_type": "code",
   "execution_count": 32,
   "metadata": {},
   "outputs": [
    {
     "data": {
      "text/plain": [
       "<Axes: xlabel='DATE'>"
      ]
     },
     "execution_count": 32,
     "metadata": {},
     "output_type": "execute_result"
    },
    {
     "data": {
      "image/png": "[encoded data removed]",
      "text/plain": [
       "<Figure size 640x480 with 1 Axes>"
      ]
     },
     "metadata": {},
     "output_type": "display_data"
    }
   ],
   "source": [
    "core_weather[[\"precip\"]].plot()"
   ]
  },
  {
   "cell_type": "code",
   "execution_count": 33,
   "metadata": {},
   "outputs": [
    {
     "data": {
      "text/plain": [
       "DATE\n",
       "1960     7.05\n",
       "1961     4.61\n",
       "1962     7.39\n",
       "1963     7.72\n",
       "1964     5.27\n",
       "        ...  \n",
       "2020     7.83\n",
       "2021     7.85\n",
       "2022     5.90\n",
       "2023    14.43\n",
       "2024    10.93\n",
       "Name: precip, Length: 65, dtype: float64"
      ]
     },
     "execution_count": 33,
     "metadata": {},
     "output_type": "execute_result"
    }
   ],
   "source": [
    "core_weather.groupby(core_weather.index.year).sum()[\"precip\"]"
   ]
  },
  {
   "cell_type": "markdown",
   "metadata": {},
   "source": [
    "## Training Model"
   ]
  },
  {
   "cell_type": "code",
   "execution_count": 34,
   "metadata": {},
   "outputs": [],
   "source": [
    "core_weather[\"target\"] = core_weather.shift(-1)[\"temp_max\"]"
   ]
  },
  {
   "cell_type": "code",
   "execution_count": 35,
   "metadata": {},
   "outputs": [
    {
     "data": {
      "text/html": [
       "<div>\n",
       "<style scoped>\n",
       "    .dataframe tbody tr th:only-of-type {\n",
       "        vertical-align: middle;\n",
       "    }\n",
       "\n",
       "    .dataframe tbody tr th {\n",
       "        vertical-align: top;\n",
       "    }\n",
       "\n",
       "    .dataframe thead th {\n",
       "        text-align: right;\n",
       "    }\n",
       "</style>\n",
       "<table border=\"1\" class=\"dataframe\">\n",
       "  <thead>\n",
       "    <tr style=\"text-align: right;\">\n",
       "      <th></th>\n",
       "      <th>precip</th>\n",
       "      <th>temp_max</th>\n",
       "      <th>temp_min</th>\n",
       "      <th>target</th>\n",
       "    </tr>\n",
       "    <tr>\n",
       "      <th>DATE</th>\n",
       "      <th></th>\n",
       "      <th></th>\n",
       "      <th></th>\n",
       "      <th></th>\n",
       "    </tr>\n",
       "  </thead>\n",
       "  <tbody>\n",
       "    <tr>\n",
       "      <th>1960-01-01</th>\n",
       "      <td>0.03</td>\n",
       "      <td>56.0</td>\n",
       "      <td>42.0</td>\n",
       "      <td>58.0</td>\n",
       "    </tr>\n",
       "    <tr>\n",
       "      <th>1960-01-02</th>\n",
       "      <td>0.00</td>\n",
       "      <td>58.0</td>\n",
       "      <td>38.0</td>\n",
       "      <td>59.0</td>\n",
       "    </tr>\n",
       "    <tr>\n",
       "      <th>1960-01-03</th>\n",
       "      <td>0.00</td>\n",
       "      <td>59.0</td>\n",
       "      <td>38.0</td>\n",
       "      <td>63.0</td>\n",
       "    </tr>\n",
       "    <tr>\n",
       "      <th>1960-01-04</th>\n",
       "      <td>0.00</td>\n",
       "      <td>63.0</td>\n",
       "      <td>45.0</td>\n",
       "      <td>63.0</td>\n",
       "    </tr>\n",
       "    <tr>\n",
       "      <th>1960-01-05</th>\n",
       "      <td>0.00</td>\n",
       "      <td>63.0</td>\n",
       "      <td>40.0</td>\n",
       "      <td>66.0</td>\n",
       "    </tr>\n",
       "    <tr>\n",
       "      <th>...</th>\n",
       "      <td>...</td>\n",
       "      <td>...</td>\n",
       "      <td>...</td>\n",
       "      <td>...</td>\n",
       "    </tr>\n",
       "    <tr>\n",
       "      <th>2024-04-22</th>\n",
       "      <td>0.00</td>\n",
       "      <td>63.0</td>\n",
       "      <td>58.0</td>\n",
       "      <td>66.0</td>\n",
       "    </tr>\n",
       "    <tr>\n",
       "      <th>2024-04-23</th>\n",
       "      <td>0.00</td>\n",
       "      <td>66.0</td>\n",
       "      <td>59.0</td>\n",
       "      <td>67.0</td>\n",
       "    </tr>\n",
       "    <tr>\n",
       "      <th>2024-04-24</th>\n",
       "      <td>0.00</td>\n",
       "      <td>67.0</td>\n",
       "      <td>59.0</td>\n",
       "      <td>67.0</td>\n",
       "    </tr>\n",
       "    <tr>\n",
       "      <th>2024-04-25</th>\n",
       "      <td>0.00</td>\n",
       "      <td>67.0</td>\n",
       "      <td>58.0</td>\n",
       "      <td>66.0</td>\n",
       "    </tr>\n",
       "    <tr>\n",
       "      <th>2024-04-26</th>\n",
       "      <td>0.00</td>\n",
       "      <td>66.0</td>\n",
       "      <td>57.0</td>\n",
       "      <td>NaN</td>\n",
       "    </tr>\n",
       "  </tbody>\n",
       "</table>\n",
       "<p>23493 rows × 4 columns</p>\n",
       "</div>"
      ],
      "text/plain": [
       "            precip  temp_max  temp_min  target\n",
       "DATE                                          \n",
       "1960-01-01    0.03      56.0      42.0    58.0\n",
       "1960-01-02    0.00      58.0      38.0    59.0\n",
       "1960-01-03    0.00      59.0      38.0    63.0\n",
       "1960-01-04    0.00      63.0      45.0    63.0\n",
       "1960-01-05    0.00      63.0      40.0    66.0\n",
       "...            ...       ...       ...     ...\n",
       "2024-04-22    0.00      63.0      58.0    66.0\n",
       "2024-04-23    0.00      66.0      59.0    67.0\n",
       "2024-04-24    0.00      67.0      59.0    67.0\n",
       "2024-04-25    0.00      67.0      58.0    66.0\n",
       "2024-04-26    0.00      66.0      57.0     NaN\n",
       "\n",
       "[23493 rows x 4 columns]"
      ]
     },
     "execution_count": 35,
     "metadata": {},
     "output_type": "execute_result"
    }
   ],
   "source": [
    "core_weather"
   ]
  },
  {
   "cell_type": "code",
   "execution_count": 36,
   "metadata": {},
   "outputs": [],
   "source": [
    "core_weather = core_weather.iloc[:-1,:].copy()"
   ]
  },
  {
   "cell_type": "code",
   "execution_count": 37,
   "metadata": {},
   "outputs": [
    {
     "data": {
      "text/html": [
       "<div>\n",
       "<style scoped>\n",
       "    .dataframe tbody tr th:only-of-type {\n",
       "        vertical-align: middle;\n",
       "    }\n",
       "\n",
       "    .dataframe tbody tr th {\n",
       "        vertical-align: top;\n",
       "    }\n",
       "\n",
       "    .dataframe thead th {\n",
       "        text-align: right;\n",
       "    }\n",
       "</style>\n",
       "<table border=\"1\" class=\"dataframe\">\n",
       "  <thead>\n",
       "    <tr style=\"text-align: right;\">\n",
       "      <th></th>\n",
       "      <th>precip</th>\n",
       "      <th>temp_max</th>\n",
       "      <th>temp_min</th>\n",
       "      <th>target</th>\n",
       "    </tr>\n",
       "    <tr>\n",
       "      <th>DATE</th>\n",
       "      <th></th>\n",
       "      <th></th>\n",
       "      <th></th>\n",
       "      <th></th>\n",
       "    </tr>\n",
       "  </thead>\n",
       "  <tbody>\n",
       "    <tr>\n",
       "      <th>1960-01-01</th>\n",
       "      <td>0.03</td>\n",
       "      <td>56.0</td>\n",
       "      <td>42.0</td>\n",
       "      <td>58.0</td>\n",
       "    </tr>\n",
       "    <tr>\n",
       "      <th>1960-01-02</th>\n",
       "      <td>0.00</td>\n",
       "      <td>58.0</td>\n",
       "      <td>38.0</td>\n",
       "      <td>59.0</td>\n",
       "    </tr>\n",
       "    <tr>\n",
       "      <th>1960-01-03</th>\n",
       "      <td>0.00</td>\n",
       "      <td>59.0</td>\n",
       "      <td>38.0</td>\n",
       "      <td>63.0</td>\n",
       "    </tr>\n",
       "    <tr>\n",
       "      <th>1960-01-04</th>\n",
       "      <td>0.00</td>\n",
       "      <td>63.0</td>\n",
       "      <td>45.0</td>\n",
       "      <td>63.0</td>\n",
       "    </tr>\n",
       "    <tr>\n",
       "      <th>1960-01-05</th>\n",
       "      <td>0.00</td>\n",
       "      <td>63.0</td>\n",
       "      <td>40.0</td>\n",
       "      <td>66.0</td>\n",
       "    </tr>\n",
       "    <tr>\n",
       "      <th>...</th>\n",
       "      <td>...</td>\n",
       "      <td>...</td>\n",
       "      <td>...</td>\n",
       "      <td>...</td>\n",
       "    </tr>\n",
       "    <tr>\n",
       "      <th>2024-04-21</th>\n",
       "      <td>0.00</td>\n",
       "      <td>68.0</td>\n",
       "      <td>60.0</td>\n",
       "      <td>63.0</td>\n",
       "    </tr>\n",
       "    <tr>\n",
       "      <th>2024-04-22</th>\n",
       "      <td>0.00</td>\n",
       "      <td>63.0</td>\n",
       "      <td>58.0</td>\n",
       "      <td>66.0</td>\n",
       "    </tr>\n",
       "    <tr>\n",
       "      <th>2024-04-23</th>\n",
       "      <td>0.00</td>\n",
       "      <td>66.0</td>\n",
       "      <td>59.0</td>\n",
       "      <td>67.0</td>\n",
       "    </tr>\n",
       "    <tr>\n",
       "      <th>2024-04-24</th>\n",
       "      <td>0.00</td>\n",
       "      <td>67.0</td>\n",
       "      <td>59.0</td>\n",
       "      <td>67.0</td>\n",
       "    </tr>\n",
       "    <tr>\n",
       "      <th>2024-04-25</th>\n",
       "      <td>0.00</td>\n",
       "      <td>67.0</td>\n",
       "      <td>58.0</td>\n",
       "      <td>66.0</td>\n",
       "    </tr>\n",
       "  </tbody>\n",
       "</table>\n",
       "<p>23492 rows × 4 columns</p>\n",
       "</div>"
      ],
      "text/plain": [
       "            precip  temp_max  temp_min  target\n",
       "DATE                                          \n",
       "1960-01-01    0.03      56.0      42.0    58.0\n",
       "1960-01-02    0.00      58.0      38.0    59.0\n",
       "1960-01-03    0.00      59.0      38.0    63.0\n",
       "1960-01-04    0.00      63.0      45.0    63.0\n",
       "1960-01-05    0.00      63.0      40.0    66.0\n",
       "...            ...       ...       ...     ...\n",
       "2024-04-21    0.00      68.0      60.0    63.0\n",
       "2024-04-22    0.00      63.0      58.0    66.0\n",
       "2024-04-23    0.00      66.0      59.0    67.0\n",
       "2024-04-24    0.00      67.0      59.0    67.0\n",
       "2024-04-25    0.00      67.0      58.0    66.0\n",
       "\n",
       "[23492 rows x 4 columns]"
      ]
     },
     "execution_count": 37,
     "metadata": {},
     "output_type": "execute_result"
    }
   ],
   "source": [
    "core_weather #check to see if we removed last row with null valu"
   ]
  },
  {
   "cell_type": "markdown",
   "metadata": {},
   "source": [
    "pip install scikit-learn\n"
   ]
  },
  {
   "cell_type": "code",
   "execution_count": 39,
   "metadata": {},
   "outputs": [
    {
     "ename": "ModuleNotFoundError",
     "evalue": "No module named 'sklearn'",
     "output_type": "error",
     "traceback": [
      "\u001b[0;31m---------------------------------------------------------------------------\u001b[0m",
      "\u001b[0;31mModuleNotFoundError\u001b[0m                       Traceback (most recent call last)",
      "Cell \u001b[0;32mIn[39], line 1\u001b[0m\n\u001b[0;32m----> 1\u001b[0m \u001b[38;5;28;01mfrom\u001b[39;00m \u001b[38;5;21;01msklearn\u001b[39;00m\u001b[38;5;21;01m.\u001b[39;00m\u001b[38;5;21;01mlinear_model\u001b[39;00m \u001b[38;5;28;01mimport\u001b[39;00m Ridge \u001b[38;5;66;03m# using ridge regression\u001b[39;00m\n\u001b[1;32m      3\u001b[0m reg \u001b[38;5;241m=\u001b[39m Ridge(alpha\u001b[38;5;241m=\u001b[39m\u001b[38;5;241m.1\u001b[39m)\n",
      "\u001b[0;31mModuleNotFoundError\u001b[0m: No module named 'sklearn'"
     ]
    }
   ],
   "source": [
    "from sklearn.linear_model import Ridge # using ridge regression\n",
    "\n",
    "reg = Ridge(alpha=.1)"
   ]
  },
  {
   "cell_type": "code",
   "execution_count": null,
   "metadata": {},
   "outputs": [],
   "source": []
  }
 ],
 "metadata": {
  "kernelspec": {
   "display_name": "Python 3",
   "language": "python",
   "name": "python3"
  },
  "language_info": {
   "codemirror_mode": {
    "name": "ipython",
    "version": 3
   },
   "file_extension": ".py",
   "mimetype": "text/x-python",
   "name": "python",
   "nbconvert_exporter": "python",
   "pygments_lexer": "ipython3",
   "version": "3.11.8"
  }
 },
 "nbformat": 4,
 "nbformat_minor": 2
}
